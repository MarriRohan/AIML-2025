{
  "nbformat": 4,
  "nbformat_minor": 0,
  "metadata": {
    "colab": {
      "provenance": [],
      "toc_visible": true,
      "include_colab_link": true
    },
    "kernelspec": {
      "name": "python3",
      "display_name": "Python 3"
    },
    "language_info": {
      "name": "python"
    }
  },
  "cells": [
    {
      "cell_type": "markdown",
      "metadata": {
        "id": "view-in-github",
        "colab_type": "text"
      },
      "source": [
        "<a href=\"https://colab.research.google.com/github/MarriRohan/AIML-2025/blob/main/Lab_01.ipynb\" target=\"_parent\"><img src=\"https://colab.research.google.com/assets/colab-badge.svg\" alt=\"Open In Colab\"/></a>"
      ]
    },
    {
      "cell_type": "code",
      "execution_count": 6,
      "metadata": {
        "colab": {
          "base_uri": "https://localhost:8080/"
        },
        "id": "4cy0rAEMq7rc",
        "outputId": "2d707719-0930-4621-d17e-8c40e7d85afd"
      },
      "outputs": [
        {
          "output_type": "execute_result",
          "data": {
            "text/plain": [
              "([1, 2, 3, 4], array([1, 2, 3, 4]), array([1, 2, 3, 4]))"
            ]
          },
          "metadata": {},
          "execution_count": 6
        }
      ],
      "source": [
        "import numpy as np\n",
        "import matplotlib.pyplot as plt\n",
        "import pandas as pd\n",
        "\n",
        "list1=[1,2,3,4]\n",
        "array1 = np.array(List1)\n",
        "array1\n",
        "array2= np.array([1,2,3,4])\n",
        "list1,array1,array2\n"
      ]
    },
    {
      "cell_type": "code",
      "source": [
        "type(list1),type(array1),type(array2)"
      ],
      "metadata": {
        "id": "dz0385CCRh__",
        "outputId": "257a094e-47e7-4e16-f871-753ea7d53ee7",
        "colab": {
          "base_uri": "https://localhost:8080/"
        }
      },
      "execution_count": 7,
      "outputs": [
        {
          "output_type": "execute_result",
          "data": {
            "text/plain": [
              "(list, numpy.ndarray, numpy.ndarray)"
            ]
          },
          "metadata": {},
          "execution_count": 7
        }
      ]
    },
    {
      "cell_type": "code",
      "source": [
        "print(\"Adding 2 arrays: array1 + array2\")\n",
        "print(\"sub 2 arrays: array1 - array2\")\n",
        "print(\"Multiply 2 arrays: array1 * array2\")\n",
        "print(\"div 2 arrays: array1 / array2\")\n",
        "print(\"Exponentiating 2 arrays: array1 ** array2\")\n",
        "print(\"Multiply  array to list1: array2 * list1\")"
      ],
      "metadata": {
        "id": "CcEJj4FhR6fV"
      },
      "execution_count": null,
      "outputs": []
    },
    {
      "cell_type": "code",
      "source": [
        "print(f\"Adding{array1 + array2}\")\n",
        "print(f\"sub{array1 - array2}\")\n",
        "print(f\"Multiply{array1 * array2}\")\n",
        "print(f\"div{array1 / array2}\")\n",
        "print(f\"Exponentiating{array1 ** array2}\")\n",
        "print(f\"Multiply  array to list1{array2 * list1}\")"
      ],
      "metadata": {
        "id": "5MHwSzQgSF3v"
      },
      "execution_count": null,
      "outputs": []
    },
    {
      "cell_type": "code",
      "source": [
        "print(f\"Sine value of array1:{ np.sin(array1)}\")\n",
        "print(f\"log value of array1:{ np.log(array1)}\")\n",
        "print(f\"log base2 value of array1:{ np.log2(array1)}\")\n",
        "print(f\"log base10 value of array1:{ np.log10(array1)}\")\n"
      ],
      "metadata": {
        "id": "SWlRC13mSMrA"
      },
      "execution_count": null,
      "outputs": []
    },
    {
      "cell_type": "markdown",
      "source": [
        "part 2:Visualise the data sets using Mstplotib Libraries"
      ],
      "metadata": {
        "id": "s-oJeMM9SPSm"
      }
    },
    {
      "cell_type": "code",
      "source": [
        "people =['raj','micky','rishi','sai','shiva']\n",
        "age = [15,15,18,29,30]\n",
        "weight = [78,60,55,45,50]\n",
        "height=[155,178,177,165,179]\n"
      ],
      "metadata": {
        "id": "txiIBZ_tvnQC"
      },
      "execution_count": 18,
      "outputs": []
    },
    {
      "cell_type": "code",
      "source": [
        "plt.scatter(weight,height)\n",
        "plt.show(\"weight\")\n",
        "plt.show(\"height\")"
      ],
      "metadata": {
        "id": "54fmkq_ySzow",
        "outputId": "81debf5f-f7ef-4130-e300-5306cc10c23a",
        "colab": {
          "base_uri": "https://localhost:8080/",
          "height": 433
        }
      },
      "execution_count": 22,
      "outputs": [
        {
          "output_type": "display_data",
          "data": {
            "text/plain": [
              "<Figure size 640x480 with 1 Axes>"
            ],
            "image/png": "[encoded data removed]"
          },
          "metadata": {}
        }
      ]
    },
    {
      "cell_type": "code",
      "source": [
        "plt.figure(figsize=(5,4))\n",
        "plt.bar(people,weight)\n",
        "plt.xlabel(\"people\")\n",
        "plt.ylabel(\"weight\")\n",
        "plt.title(\"People vs weight\")"
      ],
      "metadata": {
        "id": "GB9dBqBwSdRU",
        "outputId": "70b73da9-8296-4aeb-b988-623d87726040",
        "colab": {
          "base_uri": "https://localhost:8080/",
          "height": 428
        }
      },
      "execution_count": 28,
      "outputs": [
        {
          "output_type": "execute_result",
          "data": {
            "text/plain": [
              "Text(0.5, 1.0, 'People vs weight')"
            ]
          },
          "metadata": {},
          "execution_count": 28
        },
        {
          "output_type": "display_data",
          "data": {
            "text/plain": [
              "<Figure size 500x400 with 1 Axes>"
            ],
            "image/png": "[encoded data removed]"
          },
          "metadata": {}
        }
      ]
    },
    {
      "cell_type": "code",
      "source": [
        "plt.figure(figsize=(5,4))\n",
        "plt.hist(weight,alpha=0.75,bins=3)\n",
        "plt.xlabel(\"age\")\n",
        "plt.ylabel(\"height\")\n",
        "plt.title(\"weight vs height\")\n",
        "plt.show()"
      ],
      "metadata": {
        "colab": {
          "base_uri": "https://localhost:8080/",
          "height": 410
        },
        "id": "d6gOX_g1xhaI",
        "outputId": "f3656508-d137-404e-d114-47409c93b583"
      },
      "execution_count": 31,
      "outputs": [
        {
          "output_type": "display_data",
          "data": {
            "text/plain": [
              "<Figure size 500x400 with 1 Axes>"
            ],
            "image/png": "[encoded data removed]"
          },
          "metadata": {}
        }
      ]
    },
    {
      "cell_type": "code",
      "source": [],
      "metadata": {
        "id": "lqrUOCJx0oSi"
      },
      "execution_count": null,
      "outputs": []
    }
  ]
}