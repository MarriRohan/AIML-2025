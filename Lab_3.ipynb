{
  "nbformat": 4,
  "nbformat_minor": 0,
  "metadata": {
    "colab": {
      "provenance": [],
      "authorship_tag": "ABX9TyPOwf0Z/SNBoCIj9TLtpA5Z",
      "include_colab_link": true
    },
    "kernelspec": {
      "name": "python3",
      "display_name": "Python 3"
    },
    "language_info": {
      "name": "python"
    }
  },
  "cells": [
    {
      "cell_type": "markdown",
      "metadata": {
        "id": "view-in-github",
        "colab_type": "text"
      },
      "source": [
        "<a href=\"https://colab.research.google.com/github/MarriRohan/AIML-2025/blob/main/Lab_3.ipynb\" target=\"_parent\"><img src=\"https://colab.research.google.com/assets/colab-badge.svg\" alt=\"Open In Colab\"/></a>"
      ]
    },
    {
      "cell_type": "code",
      "execution_count": null,
      "metadata": {
        "id": "u4iNJ9Q5ukdi"
      },
      "outputs": [],
      "source": [
        "from collections import namedtuple,counter,defaultdict\n",
        "import random\n",
        "import math\n",
        "import functions\n",
        "cache=functions.lru_cache(10**6)\n",
        "  def actions(self,state)\n",
        "  raise NotImplementedError\n",
        "\n"
      ]
    },
    {
      "cell_type": "code",
      "source": [
        "class Game:\n",
        "def actions (self , state ):\n",
        "”””Return a collection of the allowable moves from this state .”””\n",
        "raise NotImplementedError\n",
        "\n"
      ],
      "metadata": {
        "colab": {
          "base_uri": "https://localhost:8080/",
          "height": 110
        },
        "id": "jIjztGFlvZUE",
        "outputId": "c651868c-8f1f-4c95-c459-5a358b21e0e7"
      },
      "execution_count": null,
      "outputs": [
        {
          "output_type": "error",
          "ename": "SyntaxError",
          "evalue": "incomplete input (<ipython-input-1-1363796a9ff9>, line 1)",
          "traceback": [
            "\u001b[0;36m  File \u001b[0;32m\"<ipython-input-1-1363796a9ff9>\"\u001b[0;36m, line \u001b[0;32m1\u001b[0m\n\u001b[0;31m    class game:\u001b[0m\n\u001b[0m               ^\u001b[0m\n\u001b[0;31mSyntaxError\u001b[0m\u001b[0;31m:\u001b[0m incomplete input\n"
          ]
        }
      ]
    },
    {
      "cell_type": "code",
      "source": [],
      "metadata": {
        "id": "wN6tVjbNw027"
      },
      "execution_count": null,
      "outputs": []
    },
    {
      "cell_type": "code",
      "source": [],
      "metadata": {
        "id": "3qm5fgmCvkgH"
      },
      "execution_count": null,
      "outputs": []
    }
  ]
}